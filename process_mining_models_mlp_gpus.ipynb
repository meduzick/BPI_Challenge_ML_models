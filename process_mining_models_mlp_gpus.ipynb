{
 "cells": [
  {
   "cell_type": "code",
   "execution_count": 34,
   "metadata": {
    "colab": {},
    "colab_type": "code",
    "id": "5vMrqM-PczSN"
   },
   "outputs": [],
   "source": [
    "import pandas as pd\n",
    "from tqdm import tqdm, tqdm_notebook\n",
    "import numpy as np\n",
    "import matplotlib.pyplot as plt\n",
    "from sklearn.preprocessing import StandardScaler, MinMaxScaler\n",
    "from  datetime import datetime\n",
    "import matplotlib\n",
    "from sklearn.model_selection import train_test_split\n",
    "import tensorflow as tf\n",
    "import os\n",
    "from tensorflow.python.client import timeline\n",
    "import seaborn as sns\n",
    "from scipy import stats\n",
    "from scipy.stats import boxcox"
   ]
  },
  {
   "cell_type": "code",
   "execution_count": 4,
   "metadata": {},
   "outputs": [
    {
     "name": "stdout",
     "output_type": "stream",
     "text": [
      "tf  version 1.14.0\n"
     ]
    }
   ],
   "source": [
    "print('tf  version {v}'.format(v = tf.__version__))"
   ]
  },
  {
   "cell_type": "markdown",
   "metadata": {
    "colab_type": "text",
    "id": "NE-EM5xQlccS"
   },
   "source": [
    "#### Preparing data"
   ]
  },
  {
   "cell_type": "code",
   "execution_count": 194,
   "metadata": {
    "colab": {},
    "colab_type": "code",
    "id": "zmS2kuRkjP5j"
   },
   "outputs": [],
   "source": [
    "data = pd.read_csv('embedded_cat_and_num_df_subcases.csv')"
   ]
  },
  {
   "cell_type": "code",
   "execution_count": 195,
   "metadata": {},
   "outputs": [],
   "source": [
    "data = data[(data.target < np.quantile(data.target, 0.9)) & \n",
    "           (data.target > np.quantile(data.target, 0.05))]"
   ]
  },
  {
   "cell_type": "code",
   "execution_count": 196,
   "metadata": {},
   "outputs": [],
   "source": [
    "target = data['target'] / (24 * 60 * 60)"
   ]
  },
  {
   "cell_type": "code",
   "execution_count": 197,
   "metadata": {},
   "outputs": [],
   "source": [
    "target = boxcox(target, lmbda= 0)"
   ]
  },
  {
   "cell_type": "code",
   "execution_count": 198,
   "metadata": {},
   "outputs": [],
   "source": [
    "mean_target = np.mean(target)\n",
    "std_target = np.std(target)\n",
    "\n",
    "target = (target - mean_target) / std_target"
   ]
  },
  {
   "cell_type": "code",
   "execution_count": 199,
   "metadata": {},
   "outputs": [
    {
     "data": {
      "text/plain": [
       "<matplotlib.axes._subplots.AxesSubplot at 0x7f3978cb26d0>"
      ]
     },
     "execution_count": 199,
     "metadata": {},
     "output_type": "execute_result"
    },
    {
     "data": {
      "image/png": "[encoded data removed]",
      "text/plain": [
       "<Figure size 432x288 with 1 Axes>"
      ]
     },
     "metadata": {
      "needs_background": "light"
     },
     "output_type": "display_data"
    }
   ],
   "source": [
    "sns.distplot(target, fit = stats.norm)"
   ]
  },
  {
   "cell_type": "code",
   "execution_count": 200,
   "metadata": {
    "colab": {},
    "colab_type": "code",
    "id": "JiboQDtT-Wm8"
   },
   "outputs": [],
   "source": [
    "X, y = data.drop(['target'], axis = 1).values, target"
   ]
  },
  {
   "cell_type": "code",
   "execution_count": 201,
   "metadata": {
    "colab": {
     "base_uri": "https://localhost:8080/",
     "height": 35
    },
    "colab_type": "code",
    "id": "FJwl3fuBja01",
    "outputId": "38138e7a-a6ff-4022-bd8c-d79df52ae698"
   },
   "outputs": [
    {
     "data": {
      "text/plain": [
       "(930650, 311)"
      ]
     },
     "execution_count": 201,
     "metadata": {},
     "output_type": "execute_result"
    }
   ],
   "source": [
    "X.shape"
   ]
  },
  {
   "cell_type": "code",
   "execution_count": 202,
   "metadata": {
    "colab": {
     "base_uri": "https://localhost:8080/",
     "height": 35
    },
    "colab_type": "code",
    "id": "FZ3s8WL-jcjb",
    "outputId": "78e6adb7-078a-4ffa-8ca9-5da62e73d051"
   },
   "outputs": [
    {
     "data": {
      "text/plain": [
       "(930650,)"
      ]
     },
     "execution_count": 202,
     "metadata": {},
     "output_type": "execute_result"
    }
   ],
   "source": [
    "y.shape"
   ]
  },
  {
   "cell_type": "code",
   "execution_count": 203,
   "metadata": {
    "colab": {},
    "colab_type": "code",
    "id": "qzmWTUXXjguK"
   },
   "outputs": [],
   "source": [
    "scaler = StandardScaler()\n",
    "X = scaler.fit_transform(X)"
   ]
  },
  {
   "cell_type": "code",
   "execution_count": 204,
   "metadata": {
    "colab": {},
    "colab_type": "code",
    "id": "Xph5nw4VGl0t"
   },
   "outputs": [],
   "source": [
    "X_train, X_test, y_train, y_test = train_test_split(X, y, test_size = 0.2, random_state = 0)\n",
    "X_val, X_test, y_val, y_test = train_test_split(X_test, y_test, test_size = 0.5, random_state = 0)"
   ]
  },
  {
   "cell_type": "code",
   "execution_count": 205,
   "metadata": {
    "colab": {
     "base_uri": "https://localhost:8080/",
     "height": 72
    },
    "colab_type": "code",
    "id": "gjLjHwlPHSn8",
    "outputId": "be7c79b5-406c-409d-dc9d-96cfaae35806"
   },
   "outputs": [
    {
     "name": "stdout",
     "output_type": "stream",
     "text": [
      "(744520, 311) (744520,)\n",
      "(93065, 311) (93065,)\n",
      "(93065, 311) (93065,)\n"
     ]
    }
   ],
   "source": [
    "print(X_train.shape, y_train.shape)\n",
    "print(X_val.shape, y_val.shape)\n",
    "print(X_test.shape, y_test.shape)"
   ]
  },
  {
   "cell_type": "markdown",
   "metadata": {
    "colab_type": "text",
    "id": "pEF9QlaNEZ1l"
   },
   "source": [
    "#### MultiGPU"
   ]
  },
  {
   "cell_type": "code",
   "execution_count": 232,
   "metadata": {
    "colab": {},
    "colab_type": "code",
    "id": "vrsrEVbRIahO"
   },
   "outputs": [],
   "source": [
    "BATCH_SIZE = 2000\n",
    "NUM_EPOCHS = 2\n",
    "WDECAY = None\n",
    "EDECAY = 0.999\n",
    "gpus = tf.config.experimental.list_logical_devices(device_type = 'GPU')"
   ]
  },
  {
   "cell_type": "code",
   "execution_count": 207,
   "metadata": {
    "colab": {},
    "colab_type": "code",
    "id": "VxcFvnpvEYQR"
   },
   "outputs": [],
   "source": [
    "def _locate_variable_on_cpu(name, shape, init, trainable = True):\n",
    "    with tf.device('/cpu:0'):\n",
    "        var = tf.get_variable(name = name,\n",
    "                         shape = tf.TensorShape(shape),\n",
    "                         initializer = init,\n",
    "                         trainable = trainable)\n",
    "    return var"
   ]
  },
  {
   "cell_type": "code",
   "execution_count": 208,
   "metadata": {
    "colab": {},
    "colab_type": "code",
    "id": "_HpAZmZeFBNN"
   },
   "outputs": [],
   "source": [
    "def _locate_variable_on_cpu_wd(name, shape, init, wd, trainable = True):\n",
    "    var = _locate_variable_on_cpu(name = name,\n",
    "                               shape = shape,\n",
    "                               init = init,\n",
    "                               trainable = trainable)\n",
    "    if wd is not None:\n",
    "        var_wd = tf.multiply(tf.nn.l2_loss(var), wd)\n",
    "        tf.add_to_collection('loss', var_wd)\n",
    "\n",
    "    return var"
   ]
  },
  {
   "cell_type": "code",
   "execution_count": 209,
   "metadata": {
    "colab": {},
    "colab_type": "code",
    "id": "wuMyvxW_GZ6V"
   },
   "outputs": [],
   "source": [
    "def _generator_train():\n",
    "    for x, y in zip(X_train, y_train):\n",
    "        yield x, y"
   ]
  },
  {
   "cell_type": "code",
   "execution_count": 211,
   "metadata": {
    "colab": {},
    "colab_type": "code",
    "id": "m2jGzA_DI-c7"
   },
   "outputs": [],
   "source": [
    "def _generator_val():\n",
    "    for x, y in zip(X_val, y_val):\n",
    "        yield x, y"
   ]
  },
  {
   "cell_type": "code",
   "execution_count": 222,
   "metadata": {},
   "outputs": [],
   "source": [
    "def _generator_test():\n",
    "    for x, y in zip(X_test, y_test):\n",
    "        yield x, y"
   ]
  },
  {
   "cell_type": "code",
   "execution_count": 243,
   "metadata": {
    "colab": {},
    "colab_type": "code",
    "id": "9N74ZH2AHriE"
   },
   "outputs": [],
   "source": [
    "def _generate_batch(generator, batch_size):\n",
    "    dataset = tf.data.Dataset.from_generator(generator,\n",
    "                                           output_types = (tf.float32, tf.float32),\n",
    "                                          output_shapes = (tf.TensorShape([311, ]), tf.TensorShape([])))\n",
    "    dataset = dataset.prefetch(-1)\n",
    "    dataset = dataset.repeat().batch(batch_size, drop_remainder = True)\n",
    "    iterator = dataset.make_one_shot_iterator()\n",
    "    batch = iterator.get_next()\n",
    "    return batch"
   ]
  },
  {
   "cell_type": "code",
   "execution_count": 219,
   "metadata": {
    "colab": {},
    "colab_type": "code",
    "id": "QfTgrEbzIdiJ"
   },
   "outputs": [],
   "source": [
    "def get_input_train():\n",
    "    return _generate_batch(_generator_train, len(gpus) * BATCH_SIZE)"
   ]
  },
  {
   "cell_type": "code",
   "execution_count": 220,
   "metadata": {
    "colab": {},
    "colab_type": "code",
    "id": "lFje3dRtJD-H"
   },
   "outputs": [],
   "source": [
    "def get_input_val():\n",
    "    return _generate_batch(_generator_val, len(gpus) * BATCH_SIZE)"
   ]
  },
  {
   "cell_type": "code",
   "execution_count": 221,
   "metadata": {},
   "outputs": [],
   "source": [
    "def get_input_test():\n",
    "    return _generate_batch(_generator_test, len(gpus) * BATCH_SIZE)"
   ]
  },
  {
   "cell_type": "code",
   "execution_count": 237,
   "metadata": {
    "colab": {},
    "colab_type": "code",
    "id": "zN1RRixbMkJp"
   },
   "outputs": [],
   "source": [
    "def construct_graph_and_return_logits(x, reuse_variables):\n",
    "    with tf.variable_scope('first_dense', reuse = reuse_variables):\n",
    "        w1 = _locate_variable_on_cpu_wd('w', [311, 1024], tf.contrib.layers.xavier_initializer(), WDECAY)\n",
    "        b1 = _locate_variable_on_cpu_wd('b', [1024, ], tf.zeros_initializer(), WDECAY)\n",
    "    z1 = tf.nn.elu(tf.matmul(x, w1) + b1)\n",
    "\n",
    "    with tf.variable_scope('second_dense', reuse = reuse_variables):\n",
    "        w2 = _locate_variable_on_cpu_wd('w', [1024, 512], tf.contrib.layers.xavier_initializer(), WDECAY)\n",
    "        b2 = _locate_variable_on_cpu_wd('b', [512, ], tf.zeros_initializer(), WDECAY)\n",
    "    z2 = tf.nn.sigmoid(tf.matmul(z1, w2) + b2)\n",
    "\n",
    "    with tf.variable_scope('third_dense', reuse = reuse_variables):\n",
    "        w3 = _locate_variable_on_cpu_wd('w', [512, 256], tf.contrib.layers.xavier_initializer(), WDECAY)\n",
    "        b3 = _locate_variable_on_cpu_wd('b', [256, ], tf.zeros_initializer(), WDECAY)\n",
    "    z3 = tf.nn.elu(tf.matmul(z2, w3) + b3)\n",
    "\n",
    "    with tf.variable_scope('fourth_dense', reuse = reuse_variables):\n",
    "        w4 = _locate_variable_on_cpu_wd('w', [256, 128], tf.contrib.layers.xavier_initializer(), WDECAY)\n",
    "        b4 = _locate_variable_on_cpu_wd('b', [128, ], tf.zeros_initializer(), WDECAY)\n",
    "    z4 = tf.nn.sigmoid(tf.matmul(z3, w4) + b4)\n",
    "\n",
    "    with tf.variable_scope('fivth_dense', reuse = reuse_variables):\n",
    "        w5 = _locate_variable_on_cpu_wd('w', [128, 64], tf.contrib.layers.xavier_initializer(), WDECAY)\n",
    "        b5 = _locate_variable_on_cpu_wd('b', [64, ], tf.zeros_initializer(), WDECAY)\n",
    "    z5 = tf.nn.elu(tf.matmul(z4, w5) + b5)\n",
    "\n",
    "    with tf.variable_scope('sixth_dense', reuse = reuse_variables):\n",
    "        w6 = _locate_variable_on_cpu_wd('w', [64, 32], tf.contrib.layers.xavier_initializer(), WDECAY)\n",
    "        b6 = _locate_variable_on_cpu_wd('b', [32, ], tf.zeros_initializer(), WDECAY)\n",
    "    z6 = tf.nn.sigmoid(tf.matmul(z5, w6) + b6)\n",
    "\n",
    "    with tf.variable_scope('final_dense', reuse = reuse_variables):\n",
    "        w7 = _locate_variable_on_cpu_wd('w', [32, 1], tf.contrib.layers.xavier_initializer(), WDECAY)\n",
    "        b7 = _locate_variable_on_cpu_wd('b', [1, ], tf.zeros_initializer(), WDECAY)\n",
    "    out = tf.matmul(z6, w7) + b7\n",
    "\n",
    "    logits = tf.squeeze(out)\n",
    "\n",
    "    return logits"
   ]
  },
  {
   "cell_type": "code",
   "execution_count": 223,
   "metadata": {
    "colab": {},
    "colab_type": "code",
    "id": "YBsyKqcXPeLo"
   },
   "outputs": [],
   "source": [
    "def compute_loss_for_tower(logits, true, scope):\n",
    "    with tf.name_scope('main_loss'):\n",
    "        main_loss = tf.reduce_mean(tf.square(logits - true))\n",
    "\n",
    "    tf.add_to_collection('loss', main_loss)\n",
    "\n",
    "    tf.add_to_collection('main_losses', main_loss)\n",
    "\n",
    "    loss_for_tower = tf.reduce_sum(tf.get_collection('loss', scope = scope))\n",
    "\n",
    "    loss_for_test = tf.reduce_mean(tf.abs(logits - true), name = 'test_loss')\n",
    "    tf.add_to_collection('test_losses',\n",
    "                        loss_for_test)\n",
    "    \n",
    "    return loss_for_tower"
   ]
  },
  {
   "cell_type": "code",
   "execution_count": 217,
   "metadata": {
    "colab": {},
    "colab_type": "code",
    "id": "EyFRBnb0RDN5"
   },
   "outputs": [],
   "source": [
    "def average_gradients():\n",
    "    grads_and_vars = tf.get_collection('grads_and_vars')\n",
    "    averaged_grads_and_vars = []\n",
    "    \n",
    "    for elem in zip(*grads_and_vars):\n",
    "        average_gradient = []\n",
    "        shape = tf.shape(elem[0][0])\n",
    "        for grad, var in elem:\n",
    "            grad = tf.reshape(grad, (-1, ))\n",
    "            average_gradient.append(grad)\n",
    "        average_gradient = tf.reduce_mean(average_gradient, axis = 0)\n",
    "        average_gradient = tf.reshape(average_gradient, shape, name = 'gradient_at_{v}'.format(v = var.op.name))\n",
    "        averaged_grads_and_vars.append((average_gradient, var))\n",
    "        \n",
    "    return averaged_grads_and_vars"
   ]
  },
  {
   "cell_type": "code",
   "execution_count": 225,
   "metadata": {
    "colab": {},
    "colab_type": "code",
    "id": "YvakiXf6F7MA"
   },
   "outputs": [],
   "source": [
    "def construct_graph(graph):\n",
    "    reuse_variables = False\n",
    "\n",
    "    summaries = []\n",
    "\n",
    "    with graph.as_default():\n",
    "        with tf.device('/cpu:0'):\n",
    "            with tf.name_scope('things_for_set_up'):\n",
    "                step = _locate_variable_on_cpu(name = 'global_step',\n",
    "                                              shape = [],\n",
    "                                              init = tf.constant_initializer(0),\n",
    "                                              trainable = False)\n",
    "                flag_for_queue = _locate_variable_on_cpu(name = 'flag_queues',\n",
    "                                                        shape = [],\n",
    "                                                        init = tf.constant_initializer(0),\n",
    "                                                        trainable = False)\n",
    "                flag_update_op = tf.assign(flag_for_queue, flag_for_queue + 1, name = 'update_flag')\n",
    "\n",
    "                optimizer = tf.train.AdamOptimizer(3e-04)\n",
    "\n",
    "                ema = tf.train.ExponentialMovingAverage(decay = EDECAY)\n",
    "\n",
    "                with tf.name_scope('inputs'):\n",
    "                    flag_indicator = tf.cast(tf.math.floormod(flag_for_queue, tf.constant(2.)), tf.bool)\n",
    "                    \n",
    "                    @tf.function\n",
    "                    def train_val_input():\n",
    "                        out = tf.cond(flag_indicator,\n",
    "                                    get_input_val,\n",
    "                                    get_input_train)\n",
    "                        return out\n",
    "                    \n",
    "                    assign_for_test_op = tf.assign(flag_for_queue, tf.constant(-1.), name = 'assign_for_test_op')\n",
    "                    \n",
    "                    flag_negative_operation = tf.math.greater_equal(flag_for_queue, tf.constant(0.))\n",
    "                    \n",
    "                    x_input, y_input = tf.cond(flag_negative_operation,\n",
    "                                               train_val_input,\n",
    "                                               get_input_test)\n",
    "                    \n",
    "                    queue = tf.contrib.slim.prefetch_queue.prefetch_queue([x_input, y_input],\n",
    "                                                                         capacity = 2)\n",
    "                    x, y = queue.dequeue()\n",
    "\n",
    "            for index, gpu in enumerate(gpus):\n",
    "                with tf.name_scope('tower{t}'.format(t = index)):\n",
    "                    with tf.device(gpu.name):\n",
    "                        x_tower_input = x[index * BATCH_SIZE: (index + 1) * BATCH_SIZE]\n",
    "                        y_tower_input = y[index * BATCH_SIZE: (index + 1) * BATCH_SIZE]\n",
    "\n",
    "                        logits  = construct_graph_and_return_logits(x_tower_input, \n",
    "                                                                   reuse_variables)\n",
    "\n",
    "                        tf.add_to_collection('logits', logits)\n",
    "\n",
    "                        loss = compute_loss_for_tower(logits, y_tower_input, 'tower{t}'.format(t = index))\n",
    "\n",
    "                        tower_loss_summary = tf.summary.scalar('loss_for_{t}_tower'.format(t = index), loss)\n",
    "                        summaries.append(tower_loss_summary)\n",
    "\n",
    "                        grads_vars = optimizer.compute_gradients(loss)\n",
    "\n",
    "                        tf.add_to_collection('grads_and_vars', grads_vars)\n",
    "\n",
    "                        reuse_variables = True\n",
    "\n",
    "            total_loss = tf.reduce_mean(tf.get_collection('main_losses'))\n",
    "\n",
    "            loss_summary = tf.summary.scalar('loss_total', total_loss)\n",
    "            summaries.append(loss_summary)\n",
    "\n",
    "            test_loss_averaged = tf.reduce_mean(tf.get_collection('test_losses'), name = 'test_loss')\n",
    "            \n",
    "            logits_agregated = tf.concat(tf.get_collection('logits'),\n",
    "                                        axis = 0,\n",
    "                                        name = 'logits_aggregation')\n",
    "\n",
    "\n",
    "\n",
    "            grads_and_vars = average_gradients()\n",
    "\n",
    "            with tf.name_scope('summaries_gradients'):\n",
    "                for grad, var in grads_and_vars:\n",
    "                    if grad is not None:\n",
    "                        summaries.append(tf.summary.histogram('grad_for_var_{v}'.format(v = var.op.name),\n",
    "                                                         grad))\n",
    "\n",
    "            with tf.name_scope('summaries_variables'):\n",
    "                for var in tf.trainable_variables():\n",
    "                    summaries.append(tf.summary.histogram('val_for_{v}'.format(v = var.op.name),\n",
    "                                                   var))\n",
    "\n",
    "            with tf.name_scope('ema_operation'):\n",
    "                ema_op = ema.apply(tf.trainable_variables())\n",
    "\n",
    "            with tf.name_scope('summaries_ema'):\n",
    "                for var in tf.trainable_variables():\n",
    "                    summaries.append(tf.summary.histogram('ema_for_{v}'.format(v = var.op.name),\n",
    "                                                       ema.average(var)))\n",
    "\n",
    "            op_grads = optimizer.apply_gradients(grads_and_vars, global_step = step, name = 'update_grad_op')\n",
    "\n",
    "            merge_op = tf.summary.merge(summaries, name = 'merge_training')\n",
    "            merge_op_val = tf.summary.merge([loss_summary], name = 'val_merging')\n",
    "\n",
    "            train_op = tf.group(op_grads, ema_op)\n",
    "\n",
    "            with tf.name_scope('saving_and_restoring'):\n",
    "                saver = tf.train.Saver()\n",
    "                imported_graph = tf.train.export_meta_graph()\n",
    "\n",
    "    return step, train_op, merge_op, merge_op_val, flag_update_op, saver"
   ]
  },
  {
   "cell_type": "code",
   "execution_count": 245,
   "metadata": {
    "colab": {
     "base_uri": "https://localhost:8080/",
     "height": 72
    },
    "colab_type": "code",
    "id": "clr8o67JhdSJ",
    "outputId": "09ef3a07-0336-4703-d097-78032a327352"
   },
   "outputs": [
    {
     "name": "stdout",
     "output_type": "stream",
     "text": [
      "WARNING:tensorflow:Entity <function construct_graph.<locals>.train_val_input at 0x7f38e97d28c0> could not be transformed and will be executed as-is. Please report this to the AutgoGraph team. When filing the bug, set the verbosity to 10 (on Linux, `export AUTOGRAPH_VERBOSITY=10`) and attach the full output. Cause: converting <function construct_graph.<locals>.train_val_input at 0x7f38e97d28c0>: AssertionError: Bad argument number for Name: 3, expecting 4\n",
      "WARNING: Entity <function construct_graph.<locals>.train_val_input at 0x7f38e97d28c0> could not be transformed and will be executed as-is. Please report this to the AutgoGraph team. When filing the bug, set the verbosity to 10 (on Linux, `export AUTOGRAPH_VERBOSITY=10`) and attach the full output. Cause: converting <function construct_graph.<locals>.train_val_input at 0x7f38e97d28c0>: AssertionError: Bad argument number for Name: 3, expecting 4\n",
      "WARNING:tensorflow:Issue encountered when serializing grads_and_vars.\n",
      "Type is unsupported, or the types of the items don't match field type in CollectionDef. Note this is a warning and probably safe to ignore.\n",
      "'list' object has no attribute 'name'\n"
     ]
    }
   ],
   "source": [
    "graph = tf.Graph()\n",
    "\n",
    "step, train_op, merge_op, merge_op_val, flag_update_op, saver = construct_graph(graph)"
   ]
  },
  {
   "cell_type": "code",
   "execution_count": 246,
   "metadata": {
    "colab": {},
    "colab_type": "code",
    "id": "RVuwZLSxjBua"
   },
   "outputs": [],
   "source": [
    "! rm -r './regression_model_embedded_cat_feats'"
   ]
  },
  {
   "cell_type": "code",
   "execution_count": 247,
   "metadata": {
    "colab": {},
    "colab_type": "code",
    "id": "Lt-R2V6Rhp5u"
   },
   "outputs": [],
   "source": [
    "### to ensure we use TB in appropriate way: we accumulate data of different\n",
    "### training runs in different subdirectories of main log directory,\n",
    "### so when you start TB it shows all the runs in comparing to each other\n",
    "\n",
    "### note also, that if you use tb 1.14, then you should upgrade it via\n",
    "### conda, so the error: Normalising Names Failed (Graph) wont appear\n",
    "### and notice, if you work in multiple environment you should start \n",
    "### tb from the environment, where upgraded tb is placed\n",
    "now = datetime.now()\n",
    "logdir = os.path.join(os.getcwd(), 'regression_model_embedded_cat_feats')\n",
    "current_time = now.strftime(\"%Y%m%d-%H%M%S\")\n",
    "current_logdir_train = os.path.join(logdir, current_time, 'train')\n",
    "current_logdir_test = os.path.join(logdir, current_time, 'test')\n",
    "\n",
    "PATH_TO_SAVE = './regression_model_cat_feats_embedded_saved/ckpt'"
   ]
  },
  {
   "cell_type": "code",
   "execution_count": 248,
   "metadata": {
    "colab": {},
    "colab_type": "code",
    "id": "EWln7w2iijqJ"
   },
   "outputs": [],
   "source": [
    "configure = tf.ConfigProto(allow_soft_placement = True, log_device_placement = False)"
   ]
  },
  {
   "cell_type": "code",
   "execution_count": 249,
   "metadata": {
    "colab": {},
    "colab_type": "code",
    "id": "HrBv-XvmjA1R"
   },
   "outputs": [],
   "source": [
    "current_step = 0\n",
    "\n",
    "num_steps = NUM_EPOCHS * (len(X_train) // ((len(gpus) * BATCH_SIZE)))"
   ]
  },
  {
   "cell_type": "code",
   "execution_count": 250,
   "metadata": {
    "colab": {},
    "colab_type": "code",
    "id": "U1f4iLJ3jM6b"
   },
   "outputs": [
    {
     "name": "stdout",
     "output_type": "stream",
     "text": [
      "WARNING:tensorflow:Issue encountered when serializing grads_and_vars.\n",
      "Type is unsupported, or the types of the items don't match field type in CollectionDef. Note this is a warning and probably safe to ignore.\n",
      "'list' object has no attribute 'name'\n",
      "WARNING:tensorflow:Issue encountered when serializing grads_and_vars.\n",
      "Type is unsupported, or the types of the items don't match field type in CollectionDef. Note this is a warning and probably safe to ignore.\n",
      "'list' object has no attribute 'name'\n"
     ]
    },
    {
     "data": {
      "application/vnd.jupyter.widget-view+json": {
       "model_id": "85528e6b9c5241b7983a0adf1b45e5bc",
       "version_major": 2,
       "version_minor": 0
      },
      "text/plain": [
       "HBox(children=(IntProgress(value=0, max=186), HTML(value='')))"
      ]
     },
     "metadata": {},
     "output_type": "display_data"
    },
    {
     "name": "stdout",
     "output_type": "stream",
     "text": [
      "\n",
      "WARNING:tensorflow:Issue encountered when serializing grads_and_vars.\n",
      "Type is unsupported, or the types of the items don't match field type in CollectionDef. Note this is a warning and probably safe to ignore.\n",
      "'list' object has no attribute 'name'\n"
     ]
    }
   ],
   "source": [
    "with tf.Session(graph = graph, config = configure) as sess:\n",
    "    writer_train = tf.summary.FileWriter(current_logdir_train, graph = graph)\n",
    "    writer_test = tf.summary.FileWriter(current_logdir_test, graph = graph)\n",
    "    sess.run(tf.global_variables_initializer())\n",
    "    \n",
    "    coord = tf.train.Coordinator()\n",
    "    tf.train.start_queue_runners(sess = sess, coord = coord)\n",
    "    \n",
    "    run_options = tf.RunOptions(trace_level = tf.RunOptions.FULL_TRACE)\n",
    "    \n",
    "    for _ in tqdm_notebook(range(num_steps)):\n",
    "        if current_step % 100 == 0:\n",
    "            run_metadata = tf.RunMetadata()\n",
    "            current_step, _, summary_train = sess.run([step, train_op, merge_op],\n",
    "                                                options = run_options,\n",
    "                                                run_metadata = run_metadata)\n",
    "            \n",
    "            if current_step == 1:\n",
    "                fetched_timeline = timeline.Timeline(run_metadata.step_stats)\n",
    "                chrome_trace = fetched_timeline.generate_chrome_trace_format()\n",
    "                with open('./timeline_first_step.json', 'w') as f:\n",
    "                    f.write(chrome_trace)\n",
    "              \n",
    "                  \n",
    "            _ = sess.run(flag_update_op)\n",
    "            summary_val, _ = sess.run([merge_op_val, flag_update_op])\n",
    "            \n",
    "            writer_train.add_summary(summary_train, current_step)\n",
    "            writer_train.add_run_metadata(run_metadata, 'step_{s}'.format(s = current_step))\n",
    "            \n",
    "            writer_test.add_summary(summary_val, current_step)\n",
    "        else:\n",
    "            current_step, _, summary_train = sess.run([step, train_op, merge_op])\n",
    "            writer_train.add_summary(summary_train, current_step)\n",
    "     \n",
    "    coord.request_stop()\n",
    "    \n",
    "    saver.save(sess = sess,\n",
    "              save_path = PATH_TO_SAVE)\n",
    "    \n",
    "    fetched_timeline = timeline.Timeline(run_metadata.step_stats)\n",
    "    chrome_trace = fetched_timeline.generate_chrome_trace_format()\n",
    "    with open('./timeline_finish_step.json', 'w') as f:\n",
    "        f.write(chrome_trace)\n",
    "        "
   ]
  },
  {
   "cell_type": "markdown",
   "metadata": {
    "colab_type": "text",
    "id": "qCJTc8dCWIum"
   },
   "source": [
    "### Import model and reset smth"
   ]
  },
  {
   "cell_type": "code",
   "execution_count": 0,
   "metadata": {
    "colab": {},
    "colab_type": "code",
    "id": "nsCXQrgpyFhb"
   },
   "outputs": [],
   "source": [
    "tf.reset_default_graph()"
   ]
  },
  {
   "cell_type": "code",
   "execution_count": 0,
   "metadata": {
    "colab": {
     "base_uri": "https://localhost:8080/",
     "height": 54
    },
    "colab_type": "code",
    "id": "7Kyrpr4KuTXo",
    "outputId": "fb9d021d-976d-4aab-d782-28bde968cac5"
   },
   "outputs": [
    {
     "name": "stdout",
     "output_type": "stream",
     "text": [
      "INFO:tensorflow:Restoring parameters from ./regression_model_saved/ckpt\n"
     ]
    },
    {
     "name": "stderr",
     "output_type": "stream",
     "text": [
      "100%|██████████| 350/350 [00:33<00:00, 10.48it/s]\n"
     ]
    }
   ],
   "source": [
    "graph_eval = tf.Graph()\n",
    "\n",
    "with tf.Session(config = configure, graph = graph_eval) as sess:\n",
    "  saver_restore = tf.train.import_meta_graph(imported_graph)\n",
    "  saver_restore.restore(sess = sess,\n",
    "                        save_path = PATH_TO_SAVE)\n",
    "  \n",
    "  coord = tf.train.Coordinator()\n",
    "  tf.train.start_queue_runners(sess = sess,\n",
    "                              coord = coord)\n",
    "  \n",
    "  op_for_logits = graph_eval.get_tensor_by_name('logits_eval_op/logits_eval_op:0')\n",
    "  \n",
    "  for _ in tqdm(range(num_steps_eval)):\n",
    "    prediction = sess.run(op_for_logits)\n",
    "    total_prediction.append(prediction)\n",
    "    \n",
    "  coord.request_stop()"
   ]
  },
  {
   "cell_type": "markdown",
   "metadata": {
    "colab_type": "text",
    "id": "qwifo7NGVRYu"
   },
   "source": [
    "### Depict loss surface"
   ]
  },
  {
   "cell_type": "markdown",
   "metadata": {
    "colab_type": "text",
    "id": "2xS1oakJcqZE"
   },
   "source": [
    "#### Get initial weights"
   ]
  },
  {
   "cell_type": "code",
   "execution_count": 0,
   "metadata": {
    "colab": {},
    "colab_type": "code",
    "id": "z6rFWNNCctaG"
   },
   "outputs": [],
   "source": [
    "########## we need this to ensure we do not have default graph\n",
    "########## this could happen when importing meta graph\n",
    "########## when you import meta graph through import_meta_graph, meta graph automatically becomes default graph\n",
    "tf.reset_default_graph()"
   ]
  },
  {
   "cell_type": "code",
   "execution_count": 0,
   "metadata": {
    "colab": {},
    "colab_type": "code",
    "id": "M_9mVgcccvC4"
   },
   "outputs": [],
   "source": [
    "variables = {}\n",
    "\n",
    "with tf.Session(config = configure) as sess:\n",
    "  saver_restore = tf.train.import_meta_graph(imported_graph)\n",
    "\n",
    "  saver_restore.restore(sess = sess,\n",
    "                        save_path = PATH_TO_SAVE)\n",
    "\n",
    "  for var in tf.trainable_variables():\n",
    "    variables[var.op.name] = var.eval()"
   ]
  },
  {
   "cell_type": "markdown",
   "metadata": {
    "colab_type": "text",
    "id": "I3WnTO0wVkJi"
   },
   "source": [
    "#### Prepare grids and vectors"
   ]
  },
  {
   "cell_type": "code",
   "execution_count": 0,
   "metadata": {
    "colab": {},
    "colab_type": "code",
    "id": "XqvQxEBMVV2L"
   },
   "outputs": [],
   "source": [
    "delta_vectors_raw = [np.random.normal(size = elem.shape) for elem in variables.values()]\n",
    "nu_vectors_raw = [np.random.normal(size = elem.shape) for elem in variables.values()]"
   ]
  },
  {
   "cell_type": "code",
   "execution_count": 0,
   "metadata": {
    "colab": {},
    "colab_type": "code",
    "id": "kZ9A7d1ZVdMp"
   },
   "outputs": [],
   "source": [
    "def normalize_filters(filters):\n",
    "  normalized_vectors = []\n",
    "  for variable, filter in zip(variables.values(), filters):\n",
    "    filter_norms = np.linalg.norm(filter, axis = 0)\n",
    "    filter_normalized = filter / filter_norms\n",
    "    var_norms = np.linalg.norm(variable, axis = 0)\n",
    "    scaled_filter = filter_normalized * var_norms\n",
    "    normalized_vectors.append(scaled_filter)\n",
    "    \n",
    "  return normalized_vectors"
   ]
  },
  {
   "cell_type": "code",
   "execution_count": 0,
   "metadata": {
    "colab": {},
    "colab_type": "code",
    "id": "ss9mPVIKVfAP"
   },
   "outputs": [],
   "source": [
    "delta_vectors, nu_vectors = normalize_filters(delta_vectors_raw), normalize_filters(nu_vectors_raw)"
   ]
  },
  {
   "cell_type": "code",
   "execution_count": 0,
   "metadata": {
    "colab": {},
    "colab_type": "code",
    "id": "5xn8WZniVhFM"
   },
   "outputs": [],
   "source": [
    "xs, ys = np.linspace(-1, 1, 30), np.linspace(-1, 1, 30)\n",
    "X, Y = np.meshgrid(xs, ys)\n",
    "x, y = np.ravel(X), np.ravel(Y)\n",
    "\n",
    "zs = []"
   ]
  },
  {
   "cell_type": "markdown",
   "metadata": {
    "colab_type": "text",
    "id": "QOt_midAVoq6"
   },
   "source": [
    "#### Do main job"
   ]
  },
  {
   "cell_type": "code",
   "execution_count": 0,
   "metadata": {
    "colab": {},
    "colab_type": "code",
    "id": "B9BkRTuGVrab"
   },
   "outputs": [],
   "source": [
    "X_train = X_train[:len(gpus) * config['batch_size']]\n",
    "y_train = y_train[:len(gpus) * config['batch_size']]\n",
    "lens_train = lens_train[:len(gpus) * config['batch_size']]"
   ]
  },
  {
   "cell_type": "code",
   "execution_count": 0,
   "metadata": {
    "colab": {},
    "colab_type": "code",
    "id": "6-EMZoavVtub"
   },
   "outputs": [],
   "source": [
    "##### here we got narrow place: \n",
    "##### when you run tf.assign with python object, you create new operation in your graph\n",
    "##### hence, graph takes more memory, because it has more operations, hence\n",
    "##### it slows down computation and every new step is executed slower\n",
    "\n",
    "graph_depict = tf.Graph()"
   ]
  },
  {
   "cell_type": "code",
   "execution_count": 0,
   "metadata": {
    "colab": {},
    "colab_type": "code",
    "id": "lIv67w6XVvsW"
   },
   "outputs": [],
   "source": [
    "step, train_op, summary_op, summary_op_loss, flag_update_op, saver, imported_graph, loss = construct_graph(graph_depict)"
   ]
  },
  {
   "cell_type": "code",
   "execution_count": 0,
   "metadata": {
    "colab": {},
    "colab_type": "code",
    "id": "ibGB00ZgVxbI"
   },
   "outputs": [],
   "source": [
    "with graph_depict.as_default():\n",
    "  placeholders = [tf.placeholder(dtype = tf.float32, shape = elem.shape, name = 'p_r_' + key) for key, elem in variables.items()]\n",
    "  \n",
    "  assign_ops = [tf.assign(var, value, name = 'assign_' + var.op.name) for var, value in zip(tf.trainable_variables(), placeholders)]\n",
    "    "
   ]
  },
  {
   "cell_type": "code",
   "execution_count": 0,
   "metadata": {
    "colab": {},
    "colab_type": "code",
    "id": "fpOCIEGHVzAE"
   },
   "outputs": [],
   "source": [
    "with tf.Session(config = configure, graph = graph_depict) as sess:\n",
    "  sess.run(tf.global_variables_initializer())\n",
    "  coord = tf.train.Coordinator()\n",
    "  tf.train.start_queue_runners(sess = sess,\n",
    "                              coord = coord)\n",
    "  ########### initialize variables with asterisk values\n",
    "  sess.run(assign_ops, feed_dict = {placeholder: value for placeholder, value in zip(placeholders, variables.values())})\n",
    "  initial_loss = sess.run(loss)\n",
    "\n",
    "  for alpha, beta in tqdm(zip(x, y), total = len(x)):\n",
    "      current_vector_delta = [alpha * elem for elem in delta_vectors]\n",
    "      current_vector_nu = [beta * elem for elem in nu_vectors]\n",
    "      current_variables = [var + elem_delta + elem_nu for var, elem_delta, elem_nu in zip(variables.values(), current_vector_delta, current_vector_nu)]\n",
    "\n",
    "      sess.run(assign_ops, feed_dict = {placeholder: value for placeholder, value in zip(placeholders, current_variables)})\n",
    "      current_loss = sess.run(loss)\n",
    "      zs.append(current_loss)\n",
    "\n",
    "  coord.request_stop()  "
   ]
  },
  {
   "cell_type": "markdown",
   "metadata": {
    "colab_type": "text",
    "id": "QlgE9BmnV1rQ"
   },
   "source": [
    "#### Depict loss surface"
   ]
  },
  {
   "cell_type": "code",
   "execution_count": 0,
   "metadata": {
    "colab": {},
    "colab_type": "code",
    "id": "Jlu0izA0V5XB"
   },
   "outputs": [],
   "source": [
    "fig = plt.figure()\n",
    "\n",
    "fig = plt.figure(figsize = (15, 10))\n",
    "ax = fig.add_subplot(111, projection='3d')\n",
    "ax.scatter3D(0, 0, initial_loss,  c = 'r', s = 300, depthshade = False)\n",
    "\n",
    "Z = np.reshape(zs, newshape = X.shape)\n",
    "surf = ax.plot_surface(X, Y, Z, cmap=cm.coolwarm)\n",
    "fig.colorbar(surf)\n",
    "\n",
    "ax.set_xlabel('Alpha')\n",
    "ax.set_ylabel('Beta')\n",
    "ax.set_zlabel('Loss')\n",
    "\n",
    "ax.view_init(50, 10)\n",
    "\n",
    "plt.show()"
   ]
  },
  {
   "cell_type": "code",
   "execution_count": 0,
   "metadata": {
    "colab": {},
    "colab_type": "code",
    "id": "kOUTfH1uV62E"
   },
   "outputs": [],
   "source": [
    "fig = plt.figure()\n",
    "ax = fig.add_subplot(111)\n",
    "CS = ax.contour(X, Y, Z)\n",
    "ax.clabel(CS, inline=1, fontsize=10)\n",
    "ax.plot(0, 0, 'bo', c = 'r')"
   ]
  },
  {
   "cell_type": "markdown",
   "metadata": {
    "colab": {},
    "colab_type": "code",
    "id": "qm3OMCr4_9EZ"
   },
   "source": [
    "### Test"
   ]
  },
  {
   "cell_type": "code",
   "execution_count": 251,
   "metadata": {
    "colab": {},
    "colab_type": "code",
    "id": "-5hVsmeeV4Po"
   },
   "outputs": [],
   "source": [
    "losses = []\n",
    "logits_predictions = []"
   ]
  },
  {
   "cell_type": "code",
   "execution_count": 253,
   "metadata": {},
   "outputs": [],
   "source": [
    "num_steps_test = len(X_test) // (BATCH_SIZE * len(gpus))"
   ]
  },
  {
   "cell_type": "code",
   "execution_count": 254,
   "metadata": {},
   "outputs": [
    {
     "name": "stdout",
     "output_type": "stream",
     "text": [
      "WARNING:tensorflow:From /home/ubuntu/anaconda3/envs/tf-gpu/lib/python3.7/site-packages/tensorflow/python/training/saver.py:1276: checkpoint_exists (from tensorflow.python.training.checkpoint_management) is deprecated and will be removed in a future version.\n",
      "Instructions for updating:\n",
      "Use standard file APIs to check for files with this prefix.\n",
      "INFO:tensorflow:Restoring parameters from ./regression_model_cat_feats_embedded_saved/ckpt\n"
     ]
    },
    {
     "data": {
      "application/vnd.jupyter.widget-view+json": {
       "model_id": "881cb05d6979468f884c044bd2967f4a",
       "version_major": 2,
       "version_minor": 0
      },
      "text/plain": [
       "HBox(children=(IntProgress(value=0, max=11), HTML(value='')))"
      ]
     },
     "metadata": {},
     "output_type": "display_data"
    },
    {
     "name": "stdout",
     "output_type": "stream",
     "text": [
      "\n"
     ]
    }
   ],
   "source": [
    "graph_test = tf.Graph()\n",
    "\n",
    "with graph_test.as_default():\n",
    "    saver_restore = tf.train.import_meta_graph(PATH_TO_SAVE + '.meta')\n",
    "    assign_op = graph_test.get_operation_by_name('things_for_set_up/inputs/assign_for_test_op')\n",
    "    test_loss = graph_test.get_tensor_by_name('test_loss:0')\n",
    "    predictions = graph_test.get_tensor_by_name('logits_aggregation:0')\n",
    "\n",
    "    \n",
    "    with tf.Session(config = configure) as sess:\n",
    "        sess.run(tf.global_variables_initializer())\n",
    "        coord = tf.train.Coordinator()\n",
    "        tf.train.start_queue_runners(sess = sess,\n",
    "                                    coord = coord)        \n",
    "        \n",
    "        saver_restore.restore(sess,\n",
    "                             PATH_TO_SAVE)\n",
    "                \n",
    "        sess.run(assign_op)\n",
    "        \n",
    "        for _ in tqdm_notebook(range(num_steps_test)):\n",
    "            loss, pred = sess.run([test_loss, predictions])\n",
    "            losses.append(loss)\n",
    "            logits_predictions.append(pred)\n",
    "        \n",
    "        coord.request_stop()"
   ]
  },
  {
   "cell_type": "code",
   "execution_count": null,
   "metadata": {},
   "outputs": [],
   "source": []
  },
  {
   "cell_type": "code",
   "execution_count": null,
   "metadata": {},
   "outputs": [],
   "source": [
    "print('number of days {d}'.format(d = np.mean(losses) * (y_scaler.data_max_ - y_scaler.data_min_)[0] / 86400))"
   ]
  },
  {
   "cell_type": "code",
   "execution_count": null,
   "metadata": {},
   "outputs": [],
   "source": [
    "logits_to_plot = list(chain(*logits_predictions))"
   ]
  },
  {
   "cell_type": "code",
   "execution_count": null,
   "metadata": {},
   "outputs": [],
   "source": [
    "sns.distplot(logits_to_plot, label = 'predict')\n",
    "sns.distplot(y_test, label = 'true')\n",
    "plt.legend()"
   ]
  }
 ],
 "metadata": {
  "accelerator": "GPU",
  "colab": {
   "collapsed_sections": [
    "VkYpjORbDIsr",
    "NE-EM5xQlccS",
    "qCJTc8dCWIum",
    "qwifo7NGVRYu",
    "2xS1oakJcqZE",
    "I3WnTO0wVkJi",
    "QOt_midAVoq6",
    "QlgE9BmnV1rQ"
   ],
   "name": "process_mining_models_mlp_gpus.ipynb",
   "provenance": []
  },
  "kernelspec": {
   "display_name": "TensorFlow-GPU",
   "language": "python",
   "name": "tf-gpu"
  },
  "language_info": {
   "codemirror_mode": {
    "name": "ipython",
    "version": 3
   },
   "file_extension": ".py",
   "mimetype": "text/x-python",
   "name": "python",
   "nbconvert_exporter": "python",
   "pygments_lexer": "ipython3",
   "version": "3.7.4"
  }
 },
 "nbformat": 4,
 "nbformat_minor": 1
}
